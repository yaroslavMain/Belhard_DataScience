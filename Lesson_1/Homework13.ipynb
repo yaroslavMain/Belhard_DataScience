{
  "cells": [
    {
      "cell_type": "code",
      "execution_count": null,
      "metadata": {},
      "outputs": [],
      "source": [
        "!pip install numpy pandas matplotlib scikit-learn"
      ]
    },
    {
      "cell_type": "code",
      "execution_count": 9,
      "metadata": {
        "id": "TOuiHIgyA4aY"
      },
      "outputs": [],
      "source": [
        "import numpy as np\n",
        "import pandas as pd\n",
        "import matplotlib.pyplot as plt\n",
        "\n",
        "from sklearn.model_selection import train_test_split\n",
        "from sklearn.preprocessing import StandardScaler\n",
        "from sklearn.metrics import mean_squared_error, r2_score\n",
        "from sklearn.linear_model import LinearRegression, Lasso, Ridge, ElasticNet\n",
        "\n",
        "\n",
        "DATASET_PATH = 'china_population.csv'"
      ]
    },
    {
      "cell_type": "code",
      "execution_count": 5,
      "metadata": {
        "colab": {
          "base_uri": "https://localhost:8080/",
          "height": 221
        },
        "id": "4OCznY_yA7Kp",
        "outputId": "634fae1b-a6a1-4dcc-c744-fbf3b5b439a0"
      },
      "outputs": [
        {
          "data": {
            "text/html": [
              "<div>\n",
              "<style scoped>\n",
              "    .dataframe tbody tr th:only-of-type {\n",
              "        vertical-align: middle;\n",
              "    }\n",
              "\n",
              "    .dataframe tbody tr th {\n",
              "        vertical-align: top;\n",
              "    }\n",
              "\n",
              "    .dataframe thead th {\n",
              "        text-align: right;\n",
              "    }\n",
              "</style>\n",
              "<table border=\"1\" class=\"dataframe\">\n",
              "  <thead>\n",
              "    <tr style=\"text-align: right;\">\n",
              "      <th></th>\n",
              "      <th>Year</th>\n",
              "      <th>Population</th>\n",
              "      <th>Yearly % Change</th>\n",
              "      <th>Yearly Change</th>\n",
              "      <th>Migrants (net)</th>\n",
              "      <th>Median Age</th>\n",
              "      <th>Fertility Rate</th>\n",
              "      <th>Density (P/Km²)</th>\n",
              "      <th>Urban Pop %</th>\n",
              "      <th>Urban Population</th>\n",
              "      <th>Country's Share of World Pop</th>\n",
              "      <th>World Population</th>\n",
              "      <th>China Global Rank</th>\n",
              "    </tr>\n",
              "  </thead>\n",
              "  <tbody>\n",
              "    <tr>\n",
              "      <th>0</th>\n",
              "      <td>2020</td>\n",
              "      <td>1439323776</td>\n",
              "      <td>0.39</td>\n",
              "      <td>5540090</td>\n",
              "      <td>-348399</td>\n",
              "      <td>38.4</td>\n",
              "      <td>1.69</td>\n",
              "      <td>153</td>\n",
              "      <td>60.8</td>\n",
              "      <td>875075919</td>\n",
              "      <td>18.47</td>\n",
              "      <td>7794798739</td>\n",
              "      <td>1</td>\n",
              "    </tr>\n",
              "    <tr>\n",
              "      <th>1</th>\n",
              "      <td>2019</td>\n",
              "      <td>1433783686</td>\n",
              "      <td>0.43</td>\n",
              "      <td>6135900</td>\n",
              "      <td>-348399</td>\n",
              "      <td>37.0</td>\n",
              "      <td>1.65</td>\n",
              "      <td>153</td>\n",
              "      <td>59.7</td>\n",
              "      <td>856409297</td>\n",
              "      <td>18.59</td>\n",
              "      <td>7713468100</td>\n",
              "      <td>1</td>\n",
              "    </tr>\n",
              "    <tr>\n",
              "      <th>2</th>\n",
              "      <td>2018</td>\n",
              "      <td>1427647786</td>\n",
              "      <td>0.47</td>\n",
              "      <td>6625995</td>\n",
              "      <td>-348399</td>\n",
              "      <td>37.0</td>\n",
              "      <td>1.65</td>\n",
              "      <td>152</td>\n",
              "      <td>58.6</td>\n",
              "      <td>837022095</td>\n",
              "      <td>18.71</td>\n",
              "      <td>7631091040</td>\n",
              "      <td>1</td>\n",
              "    </tr>\n",
              "    <tr>\n",
              "      <th>3</th>\n",
              "      <td>2017</td>\n",
              "      <td>1421021791</td>\n",
              "      <td>0.49</td>\n",
              "      <td>6972440</td>\n",
              "      <td>-348399</td>\n",
              "      <td>37.0</td>\n",
              "      <td>1.65</td>\n",
              "      <td>151</td>\n",
              "      <td>57.5</td>\n",
              "      <td>816957613</td>\n",
              "      <td>18.83</td>\n",
              "      <td>7547858925</td>\n",
              "      <td>1</td>\n",
              "    </tr>\n",
              "    <tr>\n",
              "      <th>4</th>\n",
              "      <td>2016</td>\n",
              "      <td>1414049351</td>\n",
              "      <td>0.51</td>\n",
              "      <td>7201481</td>\n",
              "      <td>-348399</td>\n",
              "      <td>37.0</td>\n",
              "      <td>1.65</td>\n",
              "      <td>151</td>\n",
              "      <td>56.3</td>\n",
              "      <td>796289491</td>\n",
              "      <td>18.94</td>\n",
              "      <td>7464022049</td>\n",
              "      <td>1</td>\n",
              "    </tr>\n",
              "  </tbody>\n",
              "</table>\n",
              "</div>"
            ],
            "text/plain": [
              "   Year  Population  Yearly % Change  Yearly Change  Migrants (net)  \\\n",
              "0  2020  1439323776             0.39        5540090         -348399   \n",
              "1  2019  1433783686             0.43        6135900         -348399   \n",
              "2  2018  1427647786             0.47        6625995         -348399   \n",
              "3  2017  1421021791             0.49        6972440         -348399   \n",
              "4  2016  1414049351             0.51        7201481         -348399   \n",
              "\n",
              "   Median Age  Fertility Rate  Density (P/Km²)  Urban Pop %  Urban Population  \\\n",
              "0        38.4            1.69              153         60.8         875075919   \n",
              "1        37.0            1.65              153         59.7         856409297   \n",
              "2        37.0            1.65              152         58.6         837022095   \n",
              "3        37.0            1.65              151         57.5         816957613   \n",
              "4        37.0            1.65              151         56.3         796289491   \n",
              "\n",
              "   Country's Share of World Pop  World Population  China Global Rank  \n",
              "0                         18.47        7794798739                  1  \n",
              "1                         18.59        7713468100                  1  \n",
              "2                         18.71        7631091040                  1  \n",
              "3                         18.83        7547858925                  1  \n",
              "4                         18.94        7464022049                  1  "
            ]
          },
          "execution_count": 5,
          "metadata": {},
          "output_type": "execute_result"
        }
      ],
      "source": [
        "data = pd.read_csv(DATASET_PATH)\n",
        "\n",
        "data.head()"
      ]
    },
    {
      "cell_type": "code",
      "execution_count": 6,
      "metadata": {
        "colab": {
          "base_uri": "https://localhost:8080/",
          "height": 601
        },
        "id": "Off6M2dZkvrO",
        "outputId": "1b6ddb20-026f-488c-ffc2-3c26e82234eb"
      },
      "outputs": [
        {
          "data": {
            "image/png": "[encoded data removed]",
            "text/plain": [
              "<Figure size 1000x600 with 1 Axes>"
            ]
          },
          "metadata": {},
          "output_type": "display_data"
        }
      ],
      "source": [
        "# Создание графика\n",
        "plt.figure(figsize=(10, 6))\n",
        "plt.plot(data['Year'], data['Population'], marker='o', linestyle='-', color='blue')\n",
        "\n",
        "plt.title('Численности населения Китая (по годам)', fontsize=16)\n",
        "plt.xlabel('Год', fontsize=14)\n",
        "plt.ylabel('Население', fontsize=14)\n",
        "plt.xticks(rotation=45)\n",
        "plt.grid(True)\n",
        "\n",
        "# Отображение графика\n",
        "plt.tight_layout()\n",
        "plt.show()"
      ]
    },
    {
      "cell_type": "code",
      "execution_count": 7,
      "metadata": {
        "colab": {
          "base_uri": "https://localhost:8080/"
        },
        "id": "oJ6_bzHUlf54",
        "outputId": "798f33a9-644b-407b-b244-bd91dde6a5cf"
      },
      "outputs": [],
      "source": [
        "# Объединение признаков в один двумерный массив и их состовление\n",
        "X = np.hstack((data['Year'].values.reshape(-1, 1), data['Density (P/Km²)'].values.reshape(-1, 1), data['World Population'].values.reshape(-1, 1)))\n",
        "y = data['Population'].values\n",
        "\n",
        "# Разделение данных на обучающий и тестовый наборы\n",
        "X_train, X_test, y_train, y_test = train_test_split(X, y, test_size=0.2, random_state=42)\n",
        "\n",
        "# Нормализация признаков\n",
        "scaler = StandardScaler()\n",
        "X_train_scaled = scaler.fit_transform(X_train)\n",
        "X_test_scaled = scaler.transform(X_test)\n",
        "\n"
      ]
    },
    {
      "cell_type": "code",
      "execution_count": 8,
      "metadata": {},
      "outputs": [
        {
          "name": "stdout",
          "output_type": "stream",
          "text": [
            "Mean Squared Error (MSE): 10564123112577.559\n",
            "R-squared (R2): 0.9970850057833618\n"
          ]
        }
      ],
      "source": [
        "# Обучение LinearRegression\n",
        "model = LinearRegression()\n",
        "model.fit(X_train_scaled, y_train)\n",
        "\n",
        "# Предсказание на тестовом наборе\n",
        "y_pred = model.predict(X_test_scaled)\n",
        "\n",
        "# Метрики качества\n",
        "# Mean Squared Error (MSE) - Среднеквадратическая ошибка -\n",
        "# Это мера, которая измеряет среднеквадратичное отклонение между\n",
        "# фактическими значениями (вашими реальными данными)\n",
        "# и предсказанными значениями, полученными вашей моделью.\n",
        "mse = mean_squared_error(y_test, y_pred)\n",
        "\n",
        "# R-squared (R2) - Коэффициент детерминации, R2 принимает значения от 0 до 1.\n",
        "# Показывает изменчивость в данных.\n",
        "r2 = r2_score(y_test, y_pred)\n",
        "\n",
        "print(\"Mean Squared Error (MSE):\", mse)\n",
        "print(\"R-squared (R2):\", r2)"
      ]
    },
    {
      "cell_type": "code",
      "execution_count": 10,
      "metadata": {},
      "outputs": [
        {
          "name": "stdout",
          "output_type": "stream",
          "text": [
            "Mean Squared Error (MSE): 16902956206464.402\n",
            "R-squared (R2): 0.99533591013084\n"
          ]
        },
        {
          "name": "stderr",
          "output_type": "stream",
          "text": [
            "/Users/yaroslav/PycharmProjects/Belhard_DataScience/Lesson_1/.venv/lib/python3.11/site-packages/sklearn/linear_model/_coordinate_descent.py:678: ConvergenceWarning: Objective did not converge. You might want to increase the number of iterations, check the scale of the features or consider increasing regularisation. Duality gap: 1.286e+14, tolerance: 1.145e+14\n",
            "  model = cd_fast.enet_coordinate_descent(\n"
          ]
        }
      ],
      "source": [
        "# Обучение Lasso\n",
        "model = Lasso(alpha=0.1)\n",
        "model.fit(X_train_scaled, y_train)\n",
        "\n",
        "# Предсказание на тестовом наборе\n",
        "y_pred = model.predict(X_test_scaled)\n",
        "\n",
        "mse = mean_squared_error(y_test, y_pred)\n",
        "\n",
        "r2 = r2_score(y_test, y_pred)\n",
        "\n",
        "print(\"Mean Squared Error (MSE):\", mse)\n",
        "print(\"R-squared (R2):\", r2)"
      ]
    },
    {
      "cell_type": "code",
      "execution_count": 11,
      "metadata": {},
      "outputs": [
        {
          "name": "stdout",
          "output_type": "stream",
          "text": [
            "Mean Squared Error (MSE): 699175204378831.0\n",
            "R-squared (R2): 0.8070742213563786\n"
          ]
        }
      ],
      "source": [
        "# Обучение Ridge\n",
        "model = Ridge(alpha=1.0)\n",
        "model.fit(X_train_scaled, y_train)\n",
        "\n",
        "# Предсказание на тестовом наборе\n",
        "y_pred = model.predict(X_test_scaled)\n",
        "\n",
        "mse = mean_squared_error(y_test, y_pred)\n",
        "\n",
        "r2 = r2_score(y_test, y_pred)\n",
        "\n",
        "print(\"Mean Squared Error (MSE):\", mse)\n",
        "print(\"R-squared (R2):\", r2)"
      ]
    },
    {
      "cell_type": "code",
      "execution_count": 12,
      "metadata": {},
      "outputs": [
        {
          "name": "stdout",
          "output_type": "stream",
          "text": [
            "Mean Squared Error (MSE): 651595658149479.1\n",
            "R-squared (R2): 0.8202030064539038\n"
          ]
        }
      ],
      "source": [
        "# Обучение ElasticNet\n",
        "model = ElasticNet(alpha=0.1, l1_ratio=0.5)\n",
        "model.fit(X_train_scaled, y_train)\n",
        "\n",
        "# Предсказание на тестовом наборе\n",
        "y_pred = model.predict(X_test_scaled)\n",
        "\n",
        "mse = mean_squared_error(y_test, y_pred)\n",
        "\n",
        "r2 = r2_score(y_test, y_pred)\n",
        "\n",
        "print(\"Mean Squared Error (MSE):\", mse)\n",
        "print(\"R-squared (R2):\", r2)"
      ]
    },
    {
      "cell_type": "markdown",
      "metadata": {},
      "source": [
        "По результатам тестов, можно сказать, что наилучшую метрику дала модель LinearRegression"
      ]
    }
  ],
  "metadata": {
    "colab": {
      "provenance": []
    },
    "kernelspec": {
      "display_name": "Python 3",
      "name": "python3"
    },
    "language_info": {
      "codemirror_mode": {
        "name": "ipython",
        "version": 3
      },
      "file_extension": ".py",
      "mimetype": "text/x-python",
      "name": "python",
      "nbconvert_exporter": "python",
      "pygments_lexer": "ipython3",
      "version": "3.11.4"
    }
  },
  "nbformat": 4,
  "nbformat_minor": 0
}
