{
 "cells": [
  {
   "cell_type": "markdown",
   "metadata": {},
   "source": [
    "Взять метод обучения с подкреплением, в котором есть применение нейросети и применить подбор гипер параметров"
   ]
  },
  {
   "cell_type": "code",
   "execution_count": null,
   "metadata": {},
   "outputs": [],
   "source": [
    "!pip install gym numpy torch optuna"
   ]
  },
  {
   "cell_type": "code",
   "execution_count": 6,
   "metadata": {},
   "outputs": [],
   "source": [
    "import gym\n",
    "\n",
    "# Создаем среду\n",
    "env = gym.make(\"FrozenLake-v1\") # https://github.com/openai/"
   ]
  },
  {
   "cell_type": "code",
   "execution_count": 9,
   "metadata": {},
   "outputs": [
    {
     "name": "stderr",
     "output_type": "stream",
     "text": [
      "[I 2024-03-07 17:26:16,502] A new study created in memory with name: no-name-ef8e6b19-a178-4ac1-94d1-4b247bcc6dca\n"
     ]
    },
    {
     "name": "stderr",
     "output_type": "stream",
     "text": [
      "/var/folders/9h/5fdk26117gjcqkjk01yhxr5w0000gn/T/ipykernel_27064/1178418317.py:74: FutureWarning: suggest_loguniform has been deprecated in v3.0.0. This feature will be removed in v6.0.0. See https://github.com/optuna/optuna/releases/tag/v3.0.0. Use suggest_float(..., log=True) instead.\n",
      "  learning_rate = trial.suggest_loguniform('learning_rate', 1e-5, 1e-1)\n",
      "/var/folders/9h/5fdk26117gjcqkjk01yhxr5w0000gn/T/ipykernel_27064/1178418317.py:75: FutureWarning: suggest_uniform has been deprecated in v3.0.0. This feature will be removed in v6.0.0. See https://github.com/optuna/optuna/releases/tag/v3.0.0. Use suggest_float instead.\n",
      "  gamma = trial.suggest_uniform('gamma', 0.85, 0.99)\n",
      "[I 2024-03-07 17:26:16,668] Trial 0 finished with value: 3.22 and parameters: {'learning_rate': 0.0022232378052516634, 'gamma': 0.9245754534211699, 'hidden_size': 128}. Best is trial 0 with value: 3.22.\n",
      "[I 2024-03-07 17:26:16,804] Trial 1 finished with value: 4.0 and parameters: {'learning_rate': 0.06980575140348894, 'gamma': 0.8657160315938123, 'hidden_size': 128}. Best is trial 1 with value: 4.0.\n"
     ]
    },
    {
     "name": "stdout",
     "output_type": "stream",
     "text": [
      "3.22\n",
      "4.0\n"
     ]
    },
    {
     "name": "stderr",
     "output_type": "stream",
     "text": [
      "[I 2024-03-07 17:26:16,932] Trial 2 finished with value: -4.0 and parameters: {'learning_rate': 3.7736906667717635e-05, 'gamma': 0.8896824130573853, 'hidden_size': 32}. Best is trial 1 with value: 4.0.\n",
      "[I 2024-03-07 17:26:17,060] Trial 3 finished with value: 4.0 and parameters: {'learning_rate': 0.09730412550444388, 'gamma': 0.8520739144131977, 'hidden_size': 32}. Best is trial 1 with value: 4.0.\n"
     ]
    },
    {
     "name": "stdout",
     "output_type": "stream",
     "text": [
      "-4.0\n",
      "4.0\n"
     ]
    },
    {
     "name": "stderr",
     "output_type": "stream",
     "text": [
      "[I 2024-03-07 17:26:17,188] Trial 4 finished with value: 4.0 and parameters: {'learning_rate': 3.817633079351554e-05, 'gamma': 0.8939674411100769, 'hidden_size': 128}. Best is trial 1 with value: 4.0.\n",
      "[I 2024-03-07 17:26:17,320] Trial 5 finished with value: -4.0 and parameters: {'learning_rate': 0.00021730533209578706, 'gamma': 0.9387922586058098, 'hidden_size': 32}. Best is trial 1 with value: 4.0.\n"
     ]
    },
    {
     "name": "stdout",
     "output_type": "stream",
     "text": [
      "4.0\n",
      "-4.0\n"
     ]
    },
    {
     "name": "stderr",
     "output_type": "stream",
     "text": [
      "[I 2024-03-07 17:26:17,454] Trial 6 finished with value: 2.98 and parameters: {'learning_rate': 0.001768586609898366, 'gamma': 0.9138908161482697, 'hidden_size': 32}. Best is trial 1 with value: 4.0.\n",
      "[I 2024-03-07 17:26:17,584] Trial 7 finished with value: 3.88 and parameters: {'learning_rate': 0.0013894554552345538, 'gamma': 0.956629684156268, 'hidden_size': 64}. Best is trial 1 with value: 4.0.\n"
     ]
    },
    {
     "name": "stdout",
     "output_type": "stream",
     "text": [
      "2.98\n",
      "3.88\n"
     ]
    },
    {
     "name": "stderr",
     "output_type": "stream",
     "text": [
      "[I 2024-03-07 17:26:17,712] Trial 8 finished with value: 3.74 and parameters: {'learning_rate': 0.019214994117610556, 'gamma': 0.9733398665325156, 'hidden_size': 64}. Best is trial 1 with value: 4.0.\n",
      "[I 2024-03-07 17:26:17,838] Trial 9 finished with value: 4.0 and parameters: {'learning_rate': 0.003953566950550455, 'gamma': 0.9650953242634125, 'hidden_size': 64}. Best is trial 1 with value: 4.0.\n"
     ]
    },
    {
     "name": "stdout",
     "output_type": "stream",
     "text": [
      "3.74\n",
      "4.0\n"
     ]
    },
    {
     "name": "stderr",
     "output_type": "stream",
     "text": [
      "[I 2024-03-07 17:26:17,975] Trial 10 finished with value: 3.94 and parameters: {'learning_rate': 0.08926726356870109, 'gamma': 0.8554471210071775, 'hidden_size': 16}. Best is trial 1 with value: 4.0.\n",
      "[I 2024-03-07 17:26:18,110] Trial 11 finished with value: 4.0 and parameters: {'learning_rate': 0.0887325430835111, 'gamma': 0.8510921929917414, 'hidden_size': 128}. Best is trial 1 with value: 4.0.\n"
     ]
    },
    {
     "name": "stdout",
     "output_type": "stream",
     "text": [
      "3.94\n",
      "4.0\n"
     ]
    },
    {
     "name": "stderr",
     "output_type": "stream",
     "text": [
      "[I 2024-03-07 17:26:18,244] Trial 12 finished with value: 4.0 and parameters: {'learning_rate': 0.014357016593962232, 'gamma': 0.8754285727365566, 'hidden_size': 16}. Best is trial 1 with value: 4.0.\n",
      "[I 2024-03-07 17:26:18,374] Trial 13 finished with value: 3.8 and parameters: {'learning_rate': 0.013420074606033464, 'gamma': 0.8707863794195662, 'hidden_size': 32}. Best is trial 1 with value: 4.0.\n"
     ]
    },
    {
     "name": "stdout",
     "output_type": "stream",
     "text": [
      "4.0\n",
      "3.8\n"
     ]
    },
    {
     "name": "stderr",
     "output_type": "stream",
     "text": [
      "[I 2024-03-07 17:26:18,505] Trial 14 finished with value: 3.98 and parameters: {'learning_rate': 0.0002744763639835556, 'gamma': 0.8739697891161485, 'hidden_size': 128}. Best is trial 1 with value: 4.0.\n",
      "[I 2024-03-07 17:26:18,644] Trial 15 finished with value: 4.0 and parameters: {'learning_rate': 0.04260705073429386, 'gamma': 0.9046777758554932, 'hidden_size': 32}. Best is trial 1 with value: 4.0.\n"
     ]
    },
    {
     "name": "stdout",
     "output_type": "stream",
     "text": [
      "3.98\n",
      "4.0\n"
     ]
    },
    {
     "name": "stderr",
     "output_type": "stream",
     "text": [
      "[I 2024-03-07 17:26:18,797] Trial 16 finished with value: 3.68 and parameters: {'learning_rate': 0.008386889614460501, 'gamma': 0.8612892014688165, 'hidden_size': 128}. Best is trial 1 with value: 4.0.\n",
      "[I 2024-03-07 17:26:18,928] Trial 17 finished with value: 3.76 and parameters: {'learning_rate': 0.03865442557401695, 'gamma': 0.8897200239059843, 'hidden_size': 16}. Best is trial 1 with value: 4.0.\n"
     ]
    },
    {
     "name": "stdout",
     "output_type": "stream",
     "text": [
      "3.68\n",
      "3.76\n"
     ]
    },
    {
     "name": "stderr",
     "output_type": "stream",
     "text": [
      "[I 2024-03-07 17:26:19,064] Trial 18 finished with value: 4.0 and parameters: {'learning_rate': 0.0003226111705977872, 'gamma': 0.9897264742930072, 'hidden_size': 32}. Best is trial 1 with value: 4.0.\n",
      "[I 2024-03-07 17:26:19,198] Trial 19 finished with value: 3.68 and parameters: {'learning_rate': 0.005122890945010774, 'gamma': 0.8653261891350105, 'hidden_size': 128}. Best is trial 1 with value: 4.0.\n"
     ]
    },
    {
     "name": "stdout",
     "output_type": "stream",
     "text": [
      "4.0\n",
      "3.68\n"
     ]
    },
    {
     "name": "stderr",
     "output_type": "stream",
     "text": [
      "[I 2024-03-07 17:26:19,334] Trial 20 finished with value: -4.0 and parameters: {'learning_rate': 1.2905022236650412e-05, 'gamma': 0.9363296544155495, 'hidden_size': 32}. Best is trial 1 with value: 4.0.\n",
      "[I 2024-03-07 17:26:19,468] Trial 21 finished with value: 4.0 and parameters: {'learning_rate': 7.852698082585294e-05, 'gamma': 0.8929851209130788, 'hidden_size': 128}. Best is trial 1 with value: 4.0.\n"
     ]
    },
    {
     "name": "stdout",
     "output_type": "stream",
     "text": [
      "-4.0\n",
      "4.0\n"
     ]
    },
    {
     "name": "stderr",
     "output_type": "stream",
     "text": [
      "[I 2024-03-07 17:26:19,602] Trial 22 finished with value: 3.98 and parameters: {'learning_rate': 0.03889752939208805, 'gamma': 0.8786218289708834, 'hidden_size': 128}. Best is trial 1 with value: 4.0.\n",
      "[I 2024-03-07 17:26:19,739] Trial 23 finished with value: 4.0 and parameters: {'learning_rate': 1.4494919011060788e-05, 'gamma': 0.8501538482702286, 'hidden_size': 128}. Best is trial 1 with value: 4.0.\n"
     ]
    },
    {
     "name": "stdout",
     "output_type": "stream",
     "text": [
      "3.98\n",
      "4.0\n"
     ]
    },
    {
     "name": "stderr",
     "output_type": "stream",
     "text": [
      "[I 2024-03-07 17:26:19,872] Trial 24 finished with value: 3.16 and parameters: {'learning_rate': 0.0005933769040090834, 'gamma': 0.9048436978672435, 'hidden_size': 128}. Best is trial 1 with value: 4.0.\n",
      "[I 2024-03-07 17:26:20,006] Trial 25 finished with value: -4.0 and parameters: {'learning_rate': 8.670138798450994e-05, 'gamma': 0.8836072673012723, 'hidden_size': 128}. Best is trial 1 with value: 4.0.\n"
     ]
    },
    {
     "name": "stdout",
     "output_type": "stream",
     "text": [
      "3.16\n",
      "-4.0\n"
     ]
    },
    {
     "name": "stderr",
     "output_type": "stream",
     "text": [
      "[I 2024-03-07 17:26:20,146] Trial 26 finished with value: 1.28 and parameters: {'learning_rate': 0.0006818093614952524, 'gamma': 0.8992518240408162, 'hidden_size': 64}. Best is trial 1 with value: 4.0.\n",
      "[I 2024-03-07 17:26:20,277] Trial 27 finished with value: 4.0 and parameters: {'learning_rate': 2.8641534333947242e-05, 'gamma': 0.8606948102211414, 'hidden_size': 16}. Best is trial 1 with value: 4.0.\n"
     ]
    },
    {
     "name": "stdout",
     "output_type": "stream",
     "text": [
      "1.28\n",
      "4.0\n"
     ]
    },
    {
     "name": "stderr",
     "output_type": "stream",
     "text": [
      "[I 2024-03-07 17:26:20,410] Trial 28 finished with value: 3.98 and parameters: {'learning_rate': 0.09930501965169491, 'gamma': 0.8667077261085037, 'hidden_size': 128}. Best is trial 1 with value: 4.0.\n",
      "[I 2024-03-07 17:26:20,541] Trial 29 finished with value: 4.0 and parameters: {'learning_rate': 0.02791697842879885, 'gamma': 0.9226467011600885, 'hidden_size': 128}. Best is trial 1 with value: 4.0.\n"
     ]
    },
    {
     "name": "stdout",
     "output_type": "stream",
     "text": [
      "3.98\n",
      "4.0\n"
     ]
    },
    {
     "name": "stderr",
     "output_type": "stream",
     "text": [
      "[I 2024-03-07 17:26:20,690] Trial 30 finished with value: 4.0 and parameters: {'learning_rate': 0.0031172393132194746, 'gamma': 0.8833455456471034, 'hidden_size': 32}. Best is trial 1 with value: 4.0.\n",
      "[I 2024-03-07 17:26:20,826] Trial 31 finished with value: 3.98 and parameters: {'learning_rate': 0.0036987677465930816, 'gamma': 0.9569131979338514, 'hidden_size': 64}. Best is trial 1 with value: 4.0.\n"
     ]
    },
    {
     "name": "stdout",
     "output_type": "stream",
     "text": [
      "4.0\n",
      "3.98\n"
     ]
    },
    {
     "name": "stderr",
     "output_type": "stream",
     "text": [
      "[I 2024-03-07 17:26:20,958] Trial 32 finished with value: 3.94 and parameters: {'learning_rate': 0.05541959588814921, 'gamma': 0.9379974715232102, 'hidden_size': 64}. Best is trial 1 with value: 4.0.\n",
      "[I 2024-03-07 17:26:21,089] Trial 33 finished with value: 3.98 and parameters: {'learning_rate': 0.010938231162180762, 'gamma': 0.9285418644691744, 'hidden_size': 64}. Best is trial 1 with value: 4.0.\n"
     ]
    },
    {
     "name": "stdout",
     "output_type": "stream",
     "text": [
      "3.94\n",
      "3.98\n"
     ]
    },
    {
     "name": "stderr",
     "output_type": "stream",
     "text": [
      "[I 2024-03-07 17:26:21,222] Trial 34 finished with value: 3.72 and parameters: {'learning_rate': 0.0001171031157953412, 'gamma': 0.9158035286173295, 'hidden_size': 64}. Best is trial 1 with value: 4.0.\n",
      "[I 2024-03-07 17:26:21,353] Trial 35 finished with value: 3.96 and parameters: {'learning_rate': 0.006198151809828665, 'gamma': 0.952658452903342, 'hidden_size': 32}. Best is trial 1 with value: 4.0.\n"
     ]
    },
    {
     "name": "stdout",
     "output_type": "stream",
     "text": [
      "3.72\n",
      "3.96\n"
     ]
    },
    {
     "name": "stderr",
     "output_type": "stream",
     "text": [
      "[I 2024-03-07 17:26:21,495] Trial 36 finished with value: 3.98 and parameters: {'learning_rate': 0.0011183767579689106, 'gamma': 0.9887672100438626, 'hidden_size': 64}. Best is trial 1 with value: 4.0.\n",
      "[I 2024-03-07 17:26:21,628] Trial 37 finished with value: 3.98 and parameters: {'learning_rate': 0.022706576528951687, 'gamma': 0.9764433811879646, 'hidden_size': 32}. Best is trial 1 with value: 4.0.\n"
     ]
    },
    {
     "name": "stdout",
     "output_type": "stream",
     "text": [
      "3.98\n",
      "3.98\n"
     ]
    },
    {
     "name": "stderr",
     "output_type": "stream",
     "text": [
      "[I 2024-03-07 17:26:21,761] Trial 38 finished with value: 4.0 and parameters: {'learning_rate': 4.0465533337397385e-05, 'gamma': 0.8574699339462484, 'hidden_size': 64}. Best is trial 1 with value: 4.0.\n",
      "[I 2024-03-07 17:26:21,892] Trial 39 finished with value: 4.0 and parameters: {'learning_rate': 0.002056145761713527, 'gamma': 0.9091074471545311, 'hidden_size': 128}. Best is trial 1 with value: 4.0.\n"
     ]
    },
    {
     "name": "stdout",
     "output_type": "stream",
     "text": [
      "4.0\n",
      "4.0\n"
     ]
    },
    {
     "name": "stderr",
     "output_type": "stream",
     "text": [
      "[I 2024-03-07 17:26:22,027] Trial 40 finished with value: 4.0 and parameters: {'learning_rate': 0.060948771180073094, 'gamma': 0.9489696647840205, 'hidden_size': 16}. Best is trial 1 with value: 4.0.\n",
      "[I 2024-03-07 17:26:22,161] Trial 41 finished with value: 3.98 and parameters: {'learning_rate': 0.06630705929996655, 'gamma': 0.852354681320449, 'hidden_size': 128}. Best is trial 1 with value: 4.0.\n"
     ]
    },
    {
     "name": "stdout",
     "output_type": "stream",
     "text": [
      "4.0\n",
      "3.98\n"
     ]
    },
    {
     "name": "stderr",
     "output_type": "stream",
     "text": [
      "[I 2024-03-07 17:26:22,296] Trial 42 finished with value: 3.92 and parameters: {'learning_rate': 0.09128235494495666, 'gamma': 0.8677007949427001, 'hidden_size': 128}. Best is trial 1 with value: 4.0.\n",
      "[I 2024-03-07 17:26:22,428] Trial 43 finished with value: 3.92 and parameters: {'learning_rate': 0.022303657682668284, 'gamma': 0.8586850011303199, 'hidden_size': 128}. Best is trial 1 with value: 4.0.\n"
     ]
    },
    {
     "name": "stdout",
     "output_type": "stream",
     "text": [
      "3.92\n",
      "3.92\n"
     ]
    },
    {
     "name": "stderr",
     "output_type": "stream",
     "text": [
      "[I 2024-03-07 17:26:22,561] Trial 44 finished with value: 3.92 and parameters: {'learning_rate': 0.03441654943098965, 'gamma': 0.8788822039107376, 'hidden_size': 128}. Best is trial 1 with value: 4.0.\n",
      "[I 2024-03-07 17:26:22,695] Trial 45 finished with value: 3.9 and parameters: {'learning_rate': 0.01382459885740322, 'gamma': 0.8719571634794525, 'hidden_size': 32}. Best is trial 1 with value: 4.0.\n"
     ]
    },
    {
     "name": "stdout",
     "output_type": "stream",
     "text": [
      "3.92\n",
      "3.9\n"
     ]
    },
    {
     "name": "stderr",
     "output_type": "stream",
     "text": [
      "[I 2024-03-07 17:26:22,831] Trial 46 finished with value: 3.92 and parameters: {'learning_rate': 0.059743746421111965, 'gamma': 0.8503470904868031, 'hidden_size': 128}. Best is trial 1 with value: 4.0.\n",
      "[I 2024-03-07 17:26:22,964] Trial 47 finished with value: -3.88 and parameters: {'learning_rate': 0.00019744579681235864, 'gamma': 0.8961430357541003, 'hidden_size': 16}. Best is trial 1 with value: 4.0.\n"
     ]
    },
    {
     "name": "stdout",
     "output_type": "stream",
     "text": [
      "3.92\n",
      "-3.88\n"
     ]
    },
    {
     "name": "stderr",
     "output_type": "stream",
     "text": [
      "[I 2024-03-07 17:26:23,099] Trial 48 finished with value: 3.5 and parameters: {'learning_rate': 0.017394186857998026, 'gamma': 0.862227927477977, 'hidden_size': 32}. Best is trial 1 with value: 4.0.\n",
      "[I 2024-03-07 17:26:23,236] Trial 49 finished with value: 2.86 and parameters: {'learning_rate': 0.0005466815828167274, 'gamma': 0.8558468139966371, 'hidden_size': 128}. Best is trial 1 with value: 4.0.\n"
     ]
    },
    {
     "name": "stdout",
     "output_type": "stream",
     "text": [
      "3.5\n",
      "2.86\n"
     ]
    },
    {
     "name": "stderr",
     "output_type": "stream",
     "text": [
      "[I 2024-03-07 17:26:23,369] Trial 50 finished with value: 3.92 and parameters: {'learning_rate': 0.04394751706350429, 'gamma': 0.9293723080258736, 'hidden_size': 64}. Best is trial 1 with value: 4.0.\n",
      "[I 2024-03-07 17:26:23,502] Trial 51 finished with value: 3.98 and parameters: {'learning_rate': 0.009754436802154858, 'gamma': 0.8757482919743167, 'hidden_size': 16}. Best is trial 1 with value: 4.0.\n"
     ]
    },
    {
     "name": "stdout",
     "output_type": "stream",
     "text": [
      "3.92\n",
      "3.98\n"
     ]
    },
    {
     "name": "stderr",
     "output_type": "stream",
     "text": [
      "[I 2024-03-07 17:26:23,637] Trial 52 finished with value: 4.0 and parameters: {'learning_rate': 0.0073825130587175025, 'gamma': 0.8886731085300656, 'hidden_size': 128}. Best is trial 1 with value: 4.0.\n",
      "[I 2024-03-07 17:26:23,773] Trial 53 finished with value: 3.96 and parameters: {'learning_rate': 0.07475944004399132, 'gamma': 0.869009598765364, 'hidden_size': 16}. Best is trial 1 with value: 4.0.\n"
     ]
    },
    {
     "name": "stdout",
     "output_type": "stream",
     "text": [
      "4.0\n",
      "3.96\n"
     ]
    },
    {
     "name": "stderr",
     "output_type": "stream",
     "text": [
      "[I 2024-03-07 17:26:23,907] Trial 54 finished with value: 4.0 and parameters: {'learning_rate': 0.004490763982509366, 'gamma': 0.8823976912906982, 'hidden_size': 16}. Best is trial 1 with value: 4.0.\n",
      "[I 2024-03-07 17:26:24,041] Trial 55 finished with value: 3.86 and parameters: {'learning_rate': 0.002917427062379455, 'gamma': 0.8625185897175719, 'hidden_size': 16}. Best is trial 1 with value: 4.0.\n"
     ]
    },
    {
     "name": "stdout",
     "output_type": "stream",
     "text": [
      "4.0\n",
      "3.86\n"
     ]
    },
    {
     "name": "stderr",
     "output_type": "stream",
     "text": [
      "[I 2024-03-07 17:26:24,223] Trial 56 finished with value: 1.78 and parameters: {'learning_rate': 0.03125086173549592, 'gamma': 0.8757775836298971, 'hidden_size': 32}. Best is trial 1 with value: 4.0.\n",
      "[I 2024-03-07 17:26:24,362] Trial 57 finished with value: 3.76 and parameters: {'learning_rate': 0.046620168535460214, 'gamma': 0.9688336927139151, 'hidden_size': 128}. Best is trial 1 with value: 4.0.\n"
     ]
    },
    {
     "name": "stdout",
     "output_type": "stream",
     "text": [
      "1.78\n",
      "3.76\n"
     ]
    },
    {
     "name": "stderr",
     "output_type": "stream",
     "text": [
      "[I 2024-03-07 17:26:24,502] Trial 58 finished with value: 3.96 and parameters: {'learning_rate': 0.015788549418504095, 'gamma': 0.887050280206554, 'hidden_size': 16}. Best is trial 1 with value: 4.0.\n",
      "[I 2024-03-07 17:26:24,638] Trial 59 finished with value: 3.86 and parameters: {'learning_rate': 0.02379041994845844, 'gamma': 0.8641168142639339, 'hidden_size': 128}. Best is trial 1 with value: 4.0.\n"
     ]
    },
    {
     "name": "stdout",
     "output_type": "stream",
     "text": [
      "3.96\n",
      "3.86\n"
     ]
    },
    {
     "name": "stderr",
     "output_type": "stream",
     "text": [
      "[I 2024-03-07 17:26:24,773] Trial 60 finished with value: 3.96 and parameters: {'learning_rate': 0.001217738923168326, 'gamma': 0.9008167488739197, 'hidden_size': 32}. Best is trial 1 with value: 4.0.\n",
      "[I 2024-03-07 17:26:24,906] Trial 61 finished with value: 3.98 and parameters: {'learning_rate': 0.08801845242396247, 'gamma': 0.9140025140296567, 'hidden_size': 32}. Best is trial 1 with value: 4.0.\n"
     ]
    },
    {
     "name": "stdout",
     "output_type": "stream",
     "text": [
      "3.96\n",
      "3.98\n"
     ]
    },
    {
     "name": "stderr",
     "output_type": "stream",
     "text": [
      "[I 2024-03-07 17:26:25,045] Trial 62 finished with value: 3.88 and parameters: {'learning_rate': 0.04651959991413359, 'gamma': 0.9081729923773506, 'hidden_size': 32}. Best is trial 1 with value: 4.0.\n",
      "[I 2024-03-07 17:26:25,182] Trial 63 finished with value: 3.9 and parameters: {'learning_rate': 0.03680823988967428, 'gamma': 0.8938962205131531, 'hidden_size': 32}. Best is trial 1 with value: 4.0.\n"
     ]
    },
    {
     "name": "stdout",
     "output_type": "stream",
     "text": [
      "3.88\n",
      "3.9\n"
     ]
    },
    {
     "name": "stderr",
     "output_type": "stream",
     "text": [
      "[I 2024-03-07 17:26:25,324] Trial 64 finished with value: -4.0 and parameters: {'learning_rate': 1.8252562414837928e-05, 'gamma': 0.8524446823354017, 'hidden_size': 64}. Best is trial 1 with value: 4.0.\n",
      "[I 2024-03-07 17:26:25,455] Trial 65 finished with value: 3.92 and parameters: {'learning_rate': 0.09916643884378824, 'gamma': 0.9016880989502838, 'hidden_size': 32}. Best is trial 1 with value: 4.0.\n"
     ]
    },
    {
     "name": "stdout",
     "output_type": "stream",
     "text": [
      "-4.0\n",
      "3.92\n"
     ]
    },
    {
     "name": "stderr",
     "output_type": "stream",
     "text": [
      "[I 2024-03-07 17:26:25,588] Trial 66 finished with value: 3.92 and parameters: {'learning_rate': 0.02898762732983123, 'gamma': 0.9181515585871844, 'hidden_size': 128}. Best is trial 1 with value: 4.0.\n",
      "[I 2024-03-07 17:26:25,722] Trial 67 finished with value: 3.78 and parameters: {'learning_rate': 0.011794658420980653, 'gamma': 0.8709692424124102, 'hidden_size': 64}. Best is trial 1 with value: 4.0.\n"
     ]
    },
    {
     "name": "stdout",
     "output_type": "stream",
     "text": [
      "3.92\n",
      "3.78\n"
     ]
    },
    {
     "name": "stderr",
     "output_type": "stream",
     "text": [
      "[I 2024-03-07 17:26:25,859] Trial 68 finished with value: 3.84 and parameters: {'learning_rate': 0.001693346205417306, 'gamma': 0.8559353836161364, 'hidden_size': 32}. Best is trial 1 with value: 4.0.\n",
      "[I 2024-03-07 17:26:25,991] Trial 69 finished with value: 3.98 and parameters: {'learning_rate': 0.061124499203373074, 'gamma': 0.9086170387974988, 'hidden_size': 128}. Best is trial 1 with value: 4.0.\n"
     ]
    },
    {
     "name": "stdout",
     "output_type": "stream",
     "text": [
      "3.84\n",
      "3.98\n"
     ]
    },
    {
     "name": "stderr",
     "output_type": "stream",
     "text": [
      "[I 2024-03-07 17:26:26,124] Trial 70 finished with value: -2.68 and parameters: {'learning_rate': 0.0007397334986868857, 'gamma': 0.8804161040855393, 'hidden_size': 16}. Best is trial 1 with value: 4.0.\n",
      "[I 2024-03-07 17:26:26,255] Trial 71 finished with value: -0.02 and parameters: {'learning_rate': 0.00038919222974990075, 'gamma': 0.9848266144402276, 'hidden_size': 32}. Best is trial 1 with value: 4.0.\n"
     ]
    },
    {
     "name": "stdout",
     "output_type": "stream",
     "text": [
      "-2.68\n",
      "-0.02\n"
     ]
    },
    {
     "name": "stderr",
     "output_type": "stream",
     "text": [
      "[I 2024-03-07 17:26:26,391] Trial 72 finished with value: 4.0 and parameters: {'learning_rate': 7.693991965930572e-05, 'gamma': 0.9659990556742465, 'hidden_size': 32}. Best is trial 1 with value: 4.0.\n",
      "[I 2024-03-07 17:26:26,526] Trial 73 finished with value: -4.0 and parameters: {'learning_rate': 0.00012650994985665307, 'gamma': 0.9784331739770451, 'hidden_size': 32}. Best is trial 1 with value: 4.0.\n"
     ]
    },
    {
     "name": "stdout",
     "output_type": "stream",
     "text": [
      "4.0\n",
      "-4.0\n"
     ]
    },
    {
     "name": "stderr",
     "output_type": "stream",
     "text": [
      "[I 2024-03-07 17:26:26,660] Trial 74 finished with value: 3.9 and parameters: {'learning_rate': 0.07514470995166528, 'gamma': 0.9576341283556673, 'hidden_size': 32}. Best is trial 1 with value: 4.0.\n",
      "[I 2024-03-07 17:26:26,793] Trial 75 finished with value: 2.7 and parameters: {'learning_rate': 5.51703973599049e-05, 'gamma': 0.9887157755024675, 'hidden_size': 128}. Best is trial 1 with value: 4.0.\n"
     ]
    },
    {
     "name": "stdout",
     "output_type": "stream",
     "text": [
      "3.9\n",
      "2.7\n"
     ]
    },
    {
     "name": "stderr",
     "output_type": "stream",
     "text": [
      "[I 2024-03-07 17:26:26,928] Trial 76 finished with value: 3.8 and parameters: {'learning_rate': 0.048504939324368404, 'gamma': 0.9411948077408602, 'hidden_size': 64}. Best is trial 1 with value: 4.0.\n",
      "[I 2024-03-07 17:26:27,061] Trial 77 finished with value: 2.3 and parameters: {'learning_rate': 0.0002511119623850287, 'gamma': 0.8644699606027479, 'hidden_size': 128}. Best is trial 1 with value: 4.0.\n"
     ]
    },
    {
     "name": "stdout",
     "output_type": "stream",
     "text": [
      "3.8\n",
      "2.3\n"
     ]
    },
    {
     "name": "stderr",
     "output_type": "stream",
     "text": [
      "[I 2024-03-07 17:26:27,206] Trial 78 finished with value: 4.0 and parameters: {'learning_rate': 2.826635887115221e-05, 'gamma': 0.8585636193920438, 'hidden_size': 32}. Best is trial 1 with value: 4.0.\n",
      "[I 2024-03-07 17:26:27,363] Trial 79 finished with value: -4.0 and parameters: {'learning_rate': 1.0868405431386224e-05, 'gamma': 0.9638054662053618, 'hidden_size': 128}. Best is trial 1 with value: 4.0.\n"
     ]
    },
    {
     "name": "stdout",
     "output_type": "stream",
     "text": [
      "4.0\n",
      "-4.0\n"
     ]
    },
    {
     "name": "stderr",
     "output_type": "stream",
     "text": [
      "[I 2024-03-07 17:26:27,499] Trial 80 finished with value: 3.96 and parameters: {'learning_rate': 0.00551748213481859, 'gamma': 0.8534357781541236, 'hidden_size': 64}. Best is trial 1 with value: 4.0.\n",
      "[I 2024-03-07 17:26:27,633] Trial 81 finished with value: 3.86 and parameters: {'learning_rate': 0.00016469419382792098, 'gamma': 0.9034775048866146, 'hidden_size': 128}. Best is trial 1 with value: 4.0.\n"
     ]
    },
    {
     "name": "stdout",
     "output_type": "stream",
     "text": [
      "3.96\n",
      "3.86\n"
     ]
    },
    {
     "name": "stderr",
     "output_type": "stream",
     "text": [
      "[I 2024-03-07 17:26:27,768] Trial 82 finished with value: -4.0 and parameters: {'learning_rate': 3.5344754178325855e-05, 'gamma': 0.8922172547555246, 'hidden_size': 128}. Best is trial 1 with value: 4.0.\n",
      "[I 2024-03-07 17:26:27,902] Trial 83 finished with value: -4.0 and parameters: {'learning_rate': 6.578630147133082e-05, 'gamma': 0.887957889025464, 'hidden_size': 128}. Best is trial 1 with value: 4.0.\n"
     ]
    },
    {
     "name": "stdout",
     "output_type": "stream",
     "text": [
      "-4.0\n",
      "-4.0\n"
     ]
    },
    {
     "name": "stderr",
     "output_type": "stream",
     "text": [
      "[I 2024-03-07 17:26:28,042] Trial 84 finished with value: -4.0 and parameters: {'learning_rate': 2.233658519740103e-05, 'gamma': 0.894233250184067, 'hidden_size': 128}. Best is trial 1 with value: 4.0.\n",
      "[I 2024-03-07 17:26:28,174] Trial 85 finished with value: -4.0 and parameters: {'learning_rate': 4.475511505540772e-05, 'gamma': 0.8965353559076402, 'hidden_size': 16}. Best is trial 1 with value: 4.0.\n"
     ]
    },
    {
     "name": "stdout",
     "output_type": "stream",
     "text": [
      "-4.0\n",
      "-4.0\n"
     ]
    },
    {
     "name": "stderr",
     "output_type": "stream",
     "text": [
      "[I 2024-03-07 17:26:28,307] Trial 86 finished with value: 2.08 and parameters: {'learning_rate': 0.0003700487903666064, 'gamma': 0.8843543576292761, 'hidden_size': 128}. Best is trial 1 with value: 4.0.\n",
      "[I 2024-03-07 17:26:28,446] Trial 87 finished with value: 3.84 and parameters: {'learning_rate': 0.07335707225137, 'gamma': 0.9817907269320246, 'hidden_size': 32}. Best is trial 1 with value: 4.0.\n"
     ]
    },
    {
     "name": "stdout",
     "output_type": "stream",
     "text": [
      "2.08\n",
      "3.84\n"
     ]
    },
    {
     "name": "stderr",
     "output_type": "stream",
     "text": [
      "[I 2024-03-07 17:26:28,600] Trial 88 finished with value: 3.98 and parameters: {'learning_rate': 0.0008682439385185559, 'gamma': 0.8742389657935773, 'hidden_size': 128}. Best is trial 1 with value: 4.0.\n",
      "[I 2024-03-07 17:26:28,733] Trial 89 finished with value: 3.92 and parameters: {'learning_rate': 0.05428595919952195, 'gamma': 0.9230141219251107, 'hidden_size': 32}. Best is trial 1 with value: 4.0.\n"
     ]
    },
    {
     "name": "stdout",
     "output_type": "stream",
     "text": [
      "3.98\n",
      "3.92\n"
     ]
    },
    {
     "name": "stderr",
     "output_type": "stream",
     "text": [
      "[I 2024-03-07 17:26:28,868] Trial 90 finished with value: 4.0 and parameters: {'learning_rate': 0.002659633966769283, 'gamma': 0.8596503890592301, 'hidden_size': 64}. Best is trial 1 with value: 4.0.\n",
      "[I 2024-03-07 17:26:29,000] Trial 91 finished with value: -4.0 and parameters: {'learning_rate': 1.5518470923182593e-05, 'gamma': 0.8506094139205692, 'hidden_size': 128}. Best is trial 1 with value: 4.0.\n"
     ]
    },
    {
     "name": "stdout",
     "output_type": "stream",
     "text": [
      "4.0\n",
      "-4.0\n"
     ]
    },
    {
     "name": "stderr",
     "output_type": "stream",
     "text": [
      "[I 2024-03-07 17:26:29,138] Trial 92 finished with value: -2.0 and parameters: {'learning_rate': 1.0066817514333654e-05, 'gamma': 0.8535771720523754, 'hidden_size': 128}. Best is trial 1 with value: 4.0.\n",
      "[I 2024-03-07 17:26:29,273] Trial 93 finished with value: -4.0 and parameters: {'learning_rate': 2.347127504561257e-05, 'gamma': 0.8670343575955176, 'hidden_size': 128}. Best is trial 1 with value: 4.0.\n"
     ]
    },
    {
     "name": "stdout",
     "output_type": "stream",
     "text": [
      "-2.0\n",
      "-4.0\n"
     ]
    },
    {
     "name": "stderr",
     "output_type": "stream",
     "text": [
      "[I 2024-03-07 17:26:29,408] Trial 94 finished with value: 3.92 and parameters: {'learning_rate': 0.024892955068691314, 'gamma': 0.8557738612901817, 'hidden_size': 128}. Best is trial 1 with value: 4.0.\n",
      "[I 2024-03-07 17:26:29,550] Trial 95 finished with value: 4.0 and parameters: {'learning_rate': 0.0001178559825693319, 'gamma': 0.9064572173045, 'hidden_size': 16}. Best is trial 1 with value: 4.0.\n"
     ]
    },
    {
     "name": "stdout",
     "output_type": "stream",
     "text": [
      "3.92\n",
      "4.0\n"
     ]
    },
    {
     "name": "stderr",
     "output_type": "stream",
     "text": [
      "[I 2024-03-07 17:26:29,688] Trial 96 finished with value: 4.0 and parameters: {'learning_rate': 0.007625332207712092, 'gamma': 0.8607408792093729, 'hidden_size': 128}. Best is trial 1 with value: 4.0.\n",
      "[I 2024-03-07 17:26:29,838] Trial 97 finished with value: 3.98 and parameters: {'learning_rate': 0.037026074729780034, 'gamma': 0.9727021100197579, 'hidden_size': 32}. Best is trial 1 with value: 4.0.\n"
     ]
    },
    {
     "name": "stdout",
     "output_type": "stream",
     "text": [
      "4.0\n",
      "3.98\n"
     ]
    },
    {
     "name": "stderr",
     "output_type": "stream",
     "text": [
      "[I 2024-03-07 17:26:29,971] Trial 98 finished with value: 3.98 and parameters: {'learning_rate': 0.08765066381768837, 'gamma': 0.9275376092111716, 'hidden_size': 128}. Best is trial 1 with value: 4.0.\n",
      "[I 2024-03-07 17:26:30,107] Trial 99 finished with value: 4.0 and parameters: {'learning_rate': 1.297657258073961e-05, 'gamma': 0.8909264848520577, 'hidden_size': 16}. Best is trial 1 with value: 4.0.\n"
     ]
    },
    {
     "name": "stdout",
     "output_type": "stream",
     "text": [
      "3.98\n",
      "4.0\n",
      "Лучшие гиперпараметры: {'learning_rate': 0.06980575140348894, 'gamma': 0.8657160315938123, 'hidden_size': 128}\n"
     ]
    }
   ],
   "source": [
    "import torch\n",
    "import torch.nn as nn\n",
    "import torch.optim as optim\n",
    "import numpy as np\n",
    "import random\n",
    "import optuna\n",
    "\n",
    "# Определение нейронной сети для аппроксимации Q-функции\n",
    "class QNetwork(nn.Module):\n",
    "    def __init__(self, state_size, action_size, hidden_size=24):\n",
    "        super(QNetwork, self).__init__()\n",
    "        self.fc1 = nn.Linear(state_size, hidden_size)\n",
    "        self.fc2 = nn.Linear(hidden_size, action_size)\n",
    "\n",
    "    def forward(self, x):\n",
    "        x = torch.relu(self.fc1(x))\n",
    "        x = self.fc2(x)\n",
    "        return x\n",
    "\n",
    "# Среда (упрощенная для примера)\n",
    "class SimpleEnv:\n",
    "    def __init__(self):\n",
    "        self.state_space_size = 4\n",
    "        self.action_space_size = 2\n",
    "\n",
    "    def step(self, state, action):\n",
    "        next_state = (state + 1) % self.state_space_size\n",
    "        reward = 1 if action == 0 else -1\n",
    "        done = next_state == 0\n",
    "        return next_state, reward, done\n",
    "\n",
    "    def reset(self):\n",
    "        return 0\n",
    "\n",
    "def train(env, model, episodes, learning_rate, gamma):\n",
    "    optimizer = optim.Adam(model.parameters(), lr=learning_rate)\n",
    "    loss_fn = nn.MSELoss()\n",
    "    total_reward = 0\n",
    "\n",
    "    for episode in range(episodes):\n",
    "        state = env.reset()\n",
    "        done = False\n",
    "        episode_reward = 0\n",
    "\n",
    "        while not done:\n",
    "            state_tensor = torch.FloatTensor([state])\n",
    "            q_values = model(state_tensor)\n",
    "\n",
    "            _, action = torch.max(q_values, dim=0)\n",
    "            action = action.item()\n",
    "\n",
    "            next_state, reward, done = env.step(state, action)\n",
    "            episode_reward += reward\n",
    "\n",
    "            next_state_tensor = torch.FloatTensor([next_state])\n",
    "            next_q_values = model(next_state_tensor)\n",
    "\n",
    "            target_q = reward + gamma * torch.max(next_q_values)\n",
    "            loss = loss_fn(q_values[action], target_q)\n",
    "\n",
    "            optimizer.zero_grad()\n",
    "            loss.backward()\n",
    "            optimizer.step()\n",
    "\n",
    "            state = next_state\n",
    "        \n",
    "        total_reward += episode_reward\n",
    "    \n",
    "    average_reward = total_reward / episodes\n",
    "    print(average_reward)\n",
    "    return average_reward\n",
    "\n",
    "def objective(trial):\n",
    "    learning_rate = trial.suggest_loguniform('learning_rate', 1e-5, 1e-1)\n",
    "    gamma = trial.suggest_uniform('gamma', 0.85, 0.99)\n",
    "    hidden_size = trial.suggest_categorical('hidden_size', [16, 32, 64, 128])\n",
    "    episodes = 100\n",
    "\n",
    "    model = QNetwork(1, 2, hidden_size)\n",
    "    env = SimpleEnv()\n",
    "    average_reward = train(env, model, episodes, learning_rate, gamma)\n",
    "\n",
    "    return average_reward\n",
    "\n",
    "study = optuna.create_study(direction='maximize')\n",
    "study.optimize(objective, n_trials=100)\n",
    "\n",
    "print(\"Лучшие гиперпараметры:\", study.best_params)"
   ]
  },
  {
   "cell_type": "markdown",
   "metadata": {},
   "source": [
    "Функция 'objective' определяет объектив для оптимизации с помощью библиотеки Optuna. Optuna используется для автоматического выбора оптимальных гиперпараметров.\n",
    "В objective, гиперпараметры (скорость обучения, gamma, размер скрытого слоя) варьируются в предопределенных диапазонах. Модель обучается с этими параметрами и возвращается средняя награда как метрика качества.\n",
    "Наконец, создается исследование (study), которое максимизирует среднюю награду и Optuna ищет лучшие гиперпараметры, выполняя функцию objective множество раз\n"
   ]
  }
 ],
 "metadata": {
  "kernelspec": {
   "display_name": ".venv",
   "language": "python",
   "name": "python3"
  },
  "language_info": {
   "codemirror_mode": {
    "name": "ipython",
    "version": 3
   },
   "file_extension": ".py",
   "mimetype": "text/x-python",
   "name": "python",
   "nbconvert_exporter": "python",
   "pygments_lexer": "ipython3",
   "version": "3.11.4"
  }
 },
 "nbformat": 4,
 "nbformat_minor": 2
}
